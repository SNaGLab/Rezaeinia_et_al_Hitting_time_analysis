{
  "nbformat": 4,
  "nbformat_minor": 0,
  "metadata": {
    "colab": {
      "provenance": []
    },
    "kernelspec": {
      "name": "python3",
      "display_name": "Python 3"
    },
    "language_info": {
      "name": "python"
    }
  },
  "cells": [
    {
      "cell_type": "markdown",
      "source": [
        "# Speeding up hitting time\n",
        "By: Drew E. Winters, PhD\n",
        "\n",
        "I updated the function to include parallel processing to speed up calculation for larger datasets.\n",
        "- This successfully reduced time considerably and produces ~ the same results with only minor floating point differnces.\n",
        "\n",
        "\n",
        "This was based on the following citation\n",
        "- Rezaeinia, P., Fairley, K., Pal, P., Meyer, F. G., & Carter, R. M. (2020). Identifying brain network topology changes in task processes and psychiatric disorders. Network Neuroscience, 4(1), 257-273.\n",
        "\n"
      ],
      "metadata": {
        "id": "igUKhOOOhU8J"
      }
    },
    {
      "cell_type": "markdown",
      "source": [
        "## Origional function"
      ],
      "metadata": {
        "id": "dD4_wiAiiA0W"
      }
    },
    {
      "cell_type": "code",
      "execution_count": 3,
      "metadata": {
        "id": "huNBoEzshTZB"
      },
      "outputs": [],
      "source": [
        "import time\n",
        "\n",
        "## Old version\n",
        "def hitting_matrix(correlation_matrix):\n",
        "  start_time = time.perf_counter()\n",
        "  correlation_matrix = abs(correlation_matrix)  ## added this to only retain absolute values.\n",
        "  L = np.size(correlation_matrix,axis = 0)\n",
        "  A_matrix = np.array(correlation_matrix)\n",
        "  D_matrix = np.zeros((L,L))\n",
        "  for i in range(L):\n",
        "      D_matrix[i,i] = np.sum(A_matrix[i]) # loop unnecessary - just sum the columns\n",
        "\n",
        "  d_max = np.max(D_matrix)\n",
        "\n",
        "  for j in range(L):\n",
        "      if np.max(A_matrix[j,:]) < .05:\n",
        "          A_matrix[j,j] = d_max - D_matrix[j,j] # no need to make a matrix with a values on the diagonal - just a list\n",
        "\n",
        "  D_matrix = np.zeros((L,L))\n",
        "  D_inv = np.zeros((L,L))\n",
        "  D_sqrt = np.zeros((L,L))\n",
        "  D_sqrt_inv = np.zeros((L,L))\n",
        "  for i in range(L):\n",
        "      D_matrix[i,i] = np.sum(A_matrix[i])\n",
        "      D_inv[i,i] = 1./D_matrix[i,i]\n",
        "      D_sqrt[i,i] = np.sqrt(D_matrix[i,i])\n",
        "      D_sqrt_inv[i,i] = 1./D_sqrt[i,i]\n",
        "\n",
        "  p_matrix = np.dot(D_inv, A_matrix)\n",
        "\n",
        "  # Graph Laplacian\n",
        "  eye_matrix = np.eye(L,L)\n",
        "  eye_P = eye_matrix - p_matrix\n",
        "\n",
        "  G_Lap = np.dot(D_sqrt,eye_P)\n",
        "  G_Lap_n = np.dot(G_Lap, D_sqrt_inv)\n",
        "\n",
        "  [eig_val, eig_vec] = np.linalg.eigh(G_Lap_n)\n",
        "  H = np.zeros((L,L))\n",
        "  d = np.sum(D_matrix)\n",
        "  for i in range(L):\n",
        "      for j in range(L):\n",
        "          deg_i = D_matrix[i,i]\n",
        "          deg_j = D_matrix[j,j]\n",
        "          for k in range(L):\n",
        "              if eig_val[k] != min(eig_val):\n",
        "                  t_i = (eig_vec[i,k]*eig_vec[i,k])/deg_i\n",
        "                  t_j = (eig_vec[j,k]*eig_vec[j,k])/deg_j\n",
        "                  t_ij = (eig_vec[i,k]*eig_vec[j,k])/np.sqrt(deg_i*deg_j)\n",
        "                  H[i,j] = H[i,j] + d*(1./(eig_val[k]))*(t_j-t_ij)\n",
        "\n",
        "  H = np.transpose(H)\n",
        "  end_time = time.perf_counter()\n",
        "  print(f\"origional total time: {end_time - start_time:.2f} seconds\")\n",
        "  return H"
      ]
    },
    {
      "cell_type": "markdown",
      "source": [
        "## Speed up function"
      ],
      "metadata": {
        "id": "V3c7InpkiExm"
      }
    },
    {
      "cell_type": "code",
      "source": [
        "\n",
        "from joblib import Parallel, delayed\n",
        "import numpy as np\n",
        "\n",
        "def hitting_matrix_p2(correlation_matrix):\n",
        "    start_time = time.perf_counter()\n",
        "    correlation_matrix = np.array(abs(correlation_matrix))  # Ensure absolute values\n",
        "    np.fill_diagonal(correlation_matrix, 0)  # Set diagonal to 0\n",
        "\n",
        "    L = correlation_matrix.shape[0]\n",
        "    A_matrix = correlation_matrix.copy()\n",
        "\n",
        "    # Degree matrix\n",
        "    row_sums = A_matrix.sum(axis=1) # instead of d_matrix loop we sum columns without the loop\n",
        "    d_max = row_sums.max()\n",
        "\n",
        "    # Ensure graph connectivity\n",
        "    for j in range(L):\n",
        "      if np.max(A_matrix[j,:]) < .05:\n",
        "          A_matrix[j,j] = d_max - row_sums[j]\n",
        "\n",
        "    row_sums = A_matrix.sum(axis=1)  # Recalculate after adjustment\n",
        "    D_inv = np.diag(1.0 / row_sums)\n",
        "    D_sqrt = np.diag(np.sqrt(row_sums))\n",
        "    D_sqrt_inv = np.diag(1.0 / np.sqrt(row_sums))\n",
        "\n",
        "    # Transition probability matrix and Graph Laplacian\n",
        "    p_matrix = D_inv @ A_matrix\n",
        "    eye_P = np.eye(L) - p_matrix\n",
        "    G_Lap_n = D_sqrt @ eye_P @ D_sqrt_inv\n",
        "\n",
        "    # Eigen decomposition\n",
        "    eig_val, eig_vec = np.linalg.eigh(G_Lap_n)\n",
        "\n",
        "    # Precompute reusable quantities\n",
        "    eig_val_nonzero = eig_val[eig_val > eig_val.min()]\n",
        "    eig_vec_squared = eig_vec ** 2\n",
        "    d_total = row_sums.sum()\n",
        "\n",
        "    def compute_H_row(i):\n",
        "        H_row = np.zeros(L)\n",
        "        deg_i = row_sums[i]\n",
        "        for j in range(L):\n",
        "            deg_j = row_sums[j]\n",
        "            t_ij = (\n",
        "                eig_vec_squared[i, eig_val > eig_val.min()] / deg_i\n",
        "                - eig_vec[i, eig_val > eig_val.min()]\n",
        "                * eig_vec[j, eig_val > eig_val.min()]\n",
        "                / np.sqrt(deg_i * deg_j)\n",
        "            )\n",
        "            H_row[j] = np.sum(d_total * t_ij / eig_val_nonzero)\n",
        "        return H_row\n",
        "\n",
        "    # Parallelize computation of rows\n",
        "    with Parallel(n_jobs=-1, backend=\"loky\") as parallel:\n",
        "        H = np.array(parallel(delayed(compute_H_row)(i) for i in range(L)))\n",
        "    end_time = time.perf_counter()\n",
        "    print(f\"faster function total time: {end_time - start_time:.2f} seconds\")\n",
        "    return H\n",
        "\n"
      ],
      "metadata": {
        "id": "J7xQ27vkiJE-"
      },
      "execution_count": 4,
      "outputs": []
    },
    {
      "cell_type": "markdown",
      "source": [
        "# Comparing the functions"
      ],
      "metadata": {
        "id": "2AaZWxsBi_tj"
      }
    },
    {
      "cell_type": "markdown",
      "source": [
        "## Simulating data"
      ],
      "metadata": {
        "id": "vCIQPaS-jGcN"
      }
    },
    {
      "cell_type": "code",
      "source": [
        "from google.colab import drive\n",
        "import pandas as pd\n",
        "drive.mount('/content/drive')\n"
      ],
      "metadata": {
        "id": "T0tgCDNzuece"
      },
      "execution_count": null,
      "outputs": []
    },
    {
      "cell_type": "code",
      "source": [
        "corr_matrix = pd.read_csv('/content/drive/MyDrive/mat_for_rep.csv', index_col=0)\n",
        "corr_matrix.shape"
      ],
      "metadata": {
        "colab": {
          "base_uri": "https://localhost:8080/"
        },
        "id": "PJZ5K6BHwdvM",
        "outputId": "dda5ea16-3f50-47be-d751-dff4f558a8d0"
      },
      "execution_count": 14,
      "outputs": [
        {
          "output_type": "execute_result",
          "data": {
            "text/plain": [
              "(216, 216)"
            ]
          },
          "metadata": {},
          "execution_count": 14
        }
      ]
    },
    {
      "cell_type": "markdown",
      "source": [
        "## Comparing output and time to estimate"
      ],
      "metadata": {
        "id": "tg0UKwOxjW2f"
      }
    },
    {
      "cell_type": "code",
      "source": [
        "\n",
        "# Run both functions\n",
        "H1 = hitting_matrix(corr_matrix)\n",
        "H2 = hitting_matrix_p2(corr_matrix)\n",
        "\n",
        "# Compare outputs\n",
        "abs_diff = np.abs(H1 - H2)\n",
        "row_mean_diff = np.abs(H1.mean(axis=1) - H2.mean(axis=1))\n",
        "col_mean_diff = np.abs(H1.mean(axis=0) - H2.mean(axis=0))\n",
        "\n",
        "print(\"\\n=== Comparison Summary ===\")\n",
        "print(f\"Matrix Mean Absolute Difference: {np.mean(abs_diff):.4e}\")\n",
        "print(f\"Row Mean Absolute Difference:   {np.mean(row_mean_diff):.4e}\")\n",
        "print(f\"Col Mean Absolute Difference:   {np.mean(col_mean_diff):.4e}\")"
      ],
      "metadata": {
        "colab": {
          "base_uri": "https://localhost:8080/"
        },
        "id": "suD2yxDkjKGt",
        "outputId": "47d10b69-2331-413d-a2c2-d76ef274a6f3"
      },
      "execution_count": 15,
      "outputs": [
        {
          "output_type": "stream",
          "name": "stdout",
          "text": [
            "origional total time: 229.60 seconds\n",
            "faster function total time: 1.94 seconds\n",
            "\n",
            "=== Comparison Summary ===\n",
            "Matrix Mean Absolute Difference: 9.9063e-04\n",
            "Row Mean Absolute Difference:   9.9063e-04\n",
            "Col Mean Absolute Difference:   9.9063e-04\n"
          ]
        }
      ]
    },
    {
      "cell_type": "markdown",
      "source": [
        "# Conclusion\n",
        "The new function takes considerably less time to estimate\n",
        "- Faster function is considerably faster\n",
        "- Making the new function ~ 98% faster than the origional\n",
        "\n",
        "On average the faster function estimates about 0.0009 less hops, which is consistent across all cells in the hitting matrix\n",
        "- This acts as a scaling back of a number close to 0 consistently\n",
        "- Thus it retains the relative hitting time values\n",
        "- Therefore it is consistent and will not bias results one way or another\n",
        "\n",
        "It is advisable to use the new function for faster hitting time estimation"
      ],
      "metadata": {
        "id": "49CVU4nnlolm"
      }
    },
    {
      "cell_type": "markdown",
      "source": [
        "### Notes on interpretation\n",
        "From the hitting time matricies - If you average across rows or columns\n",
        "- Averaging across rows (i.e., H.mean(axis=1)) gives the expected hitting times from each node to all others.\n",
        "- Averaging across columns (i.e., H.mean(axis=0)) gives the expected hitting times to each node from all others."
      ],
      "metadata": {
        "id": "Mg5vZjEpoinl"
      }
    }
  ]
}