{
 "cells": [
  {
   "cell_type": "markdown",
   "metadata": {},
   "source": [
    "Generate a scale free network with 100 nodes and calculate the hitting time distribution:"
   ]
  },
  {
   "cell_type": "code",
   "execution_count": 2,
   "metadata": {
    "collapsed": true
   },
   "outputs": [],
   "source": [
    "import os\n",
    "import numpy as np\n",
    "import scipy.stats\n",
    "%matplotlib inline\n",
    "import matplotlib.pyplot as plt\n",
    "import networkx as nx\n",
    "np.set_printoptions(threshold=np.inf)\n",
    "N = 100 #number of nodes\n",
    "p = 1.5"
   ]
  },
  {
   "cell_type": "code",
   "execution_count": 3,
   "metadata": {
    "collapsed": true
   },
   "outputs": [],
   "source": [
    "# hitting time calculation function\n",
    "def hitting_matrix(A_matrix):\n",
    "    L = np.size(A_matrix,axis = 0)\n",
    "    np.fill_diagonal(A_matrix, 0)\n",
    "    D_matrix = np.zeros((L,L))\n",
    "    D_inv = np.zeros((L,L))\n",
    "    D_sqrt = np.zeros((L,L))\n",
    "    D_sqrt_inv = np.zeros((L,L))\n",
    "    for i in range(L):\n",
    "        D_matrix[i,i] = np.sum(A_matrix[i])\n",
    "        D_inv[i,i] = 1./D_matrix[i,i]\n",
    "        D_sqrt[i,i] = np.sqrt(D_matrix[i,i])\n",
    "        D_sqrt_inv[i,i] = 1./D_sqrt[i,i]\n",
    "    p_matrix = np.dot(D_inv, A_matrix)\n",
    "    eye_matrix = np.eye(L,L)\n",
    "    eye_P = eye_matrix - p_matrix\n",
    "\n",
    "    G_Lap = np.dot(D_sqrt,eye_P)\n",
    "    G_Lap_n = np.dot(G_Lap, D_sqrt_inv)\n",
    "\n",
    "    N_1 = np.dot(D_sqrt_inv,A_matrix)\n",
    "    N_matrix = np.dot(N_1, D_sqrt_inv)\n",
    "    lap_matrix = D_matrix - A_matrix\n",
    "    [eig_val, eig_vec] = np.linalg.eigh(G_Lap_n)\n",
    "    H = np.zeros((L,L))\n",
    "    d = np.sum(D_matrix)\n",
    "    for i in range(L):\n",
    "        for j in range(L):\n",
    "            deg_i = D_matrix[i,i]\n",
    "            deg_j = D_matrix[j,j]\n",
    "            for k in range(L):\n",
    "                if eig_val[k] != min(eig_val):\n",
    "                    t_i = (eig_vec[i,k]*eig_vec[i,k])/deg_i\n",
    "                    t_j = (eig_vec[j,k]*eig_vec[j,k])/deg_j\n",
    "                    t_ij = (eig_vec[i,k]*eig_vec[j,k])/np.sqrt(deg_i*deg_j)\n",
    "                    H[i,j] = H[i,j] + d*(1./(eig_val[k]))*(t_j-t_ij)\n",
    "    return H"
   ]
  },
  {
   "cell_type": "code",
   "execution_count": 4,
   "metadata": {
    "collapsed": false
   },
   "outputs": [],
   "source": [
    "def reshape_no_diag(input_matrix):\n",
    "    L = np.size(input_matrix, axis = 0)\n",
    "    H_vec = np.reshape(H, (1, L*L))\n",
    "    for i in reversed(xrange(L)):\n",
    "        H_vec = np.delete(H_vec, i*L+i)\n",
    "    return H_vec"
   ]
  },
  {
   "cell_type": "code",
   "execution_count": 5,
   "metadata": {
    "collapsed": true
   },
   "outputs": [],
   "source": [
    "#adjacency matrix for scale free network\n",
    "def SF_network(N, p):\n",
    "    while True:  \n",
    "        s=[]\n",
    "        while len(s)<N:\n",
    "            nextval = int(nx.utils.powerlaw_sequence(1,p)[0]) #100 nodes, power-law exponent 2.5\n",
    "            if nextval!=0:\n",
    "                s.append(nextval)\n",
    "        if sum(s)%2 == 0:\n",
    "            break\n",
    "    G = nx.configuration_model(s)\n",
    "    G=nx.Graph(G) # remove parallel edges\n",
    "    G.remove_edges_from(G.selfloop_edges())\n",
    "    A=nx.adjacency_matrix(G)\n",
    "    return A, G"
   ]
  },
  {
   "cell_type": "code",
   "execution_count": 10,
   "metadata": {
    "collapsed": true
   },
   "outputs": [],
   "source": [
    "n_bins = 40\n",
    "for i in range(1,2):\n",
    "    A, G = SF_network(N, p)\n",
    "    H = hitting_matrix(A)\n",
    "    H_avg = H\n",
    "    H_vec = reshape_no_diag(H)\n",
    "    [hist_avg, bins] = np.histogram(H_vec, bins = n_bins, normed = True)"
   ]
  },
  {
   "cell_type": "code",
   "execution_count": 11,
   "metadata": {
    "collapsed": true
   },
   "outputs": [],
   "source": [
    "N_iter = 20\n",
    "for m in range(2,N_iter):\n",
    "    A, G = SF_network(N, p)\n",
    "    H = hitting_matrix(A)\n",
    "    H_avg = H_avg + H\n",
    "    H_vec = reshape_no_diag(H)\n",
    "    [hist, bins] = np.histogram(H_vec, bins = n_bins, normed = True)\n",
    "\n",
    "    hist_avg = hist_avg + np.array(hist)"
   ]
  },
  {
   "cell_type": "code",
   "execution_count": 12,
   "metadata": {
    "collapsed": true
   },
   "outputs": [],
   "source": [
    "H_avg = H_avg/(N_iter-1)\n",
    "hist_avg = hist_avg/(N_iter-1)"
   ]
  },
  {
   "cell_type": "code",
   "execution_count": 13,
   "metadata": {
    "collapsed": false
   },
   "outputs": [
    {
     "data": {
      "image/png": "[encoded data removed]",
      "text/plain": [
       "<matplotlib.figure.Figure at 0x1178d7050>"
      ]
     },
     "metadata": {},
     "output_type": "display_data"
    }
   ],
   "source": [
    "fig, ax = plt.subplots()\n",
    "fig.set_size_inches(6, 4)\n",
    "ax.bar(bins[:-1],hist_avg, width=np.diff(bins), ec=\"k\", align=\"edge\")\n",
    "ax.plot(bins[:-1], hist_avg, linewidth=2, color='r')\n",
    "plt.title(\"Scale free\", fontname=\"Arial\", fontsize=11)\n",
    "plt.xlabel(\"Hitting time (expected number of hops)\", fontname=\"Arial\", fontsize=11)\n",
    "plt.ylabel(\"Probability distribution function\", fontname=\"Arial\", fontsize=11)\n",
    "# plt.yticks(np.arange(0, .03,.01))\n",
    "# plt.axis([0, 300, 0, .025])\n",
    "\n",
    "plt.show()\n",
    "# fig.savefig('/Users/pariarezaeinia/Desktop/draft/HitDist_SW.png', dpi=400)"
   ]
  }
 ],
 "metadata": {
  "kernelspec": {
   "display_name": "Python 2",
   "language": "python",
   "name": "python2"
  },
  "language_info": {
   "codemirror_mode": {
    "name": "ipython",
    "version": 2
   },
   "file_extension": ".py",
   "mimetype": "text/x-python",
   "name": "python",
   "nbconvert_exporter": "python",
   "pygments_lexer": "ipython2",
   "version": "2.7.13"
  }
 },
 "nbformat": 4,
 "nbformat_minor": 0
}
