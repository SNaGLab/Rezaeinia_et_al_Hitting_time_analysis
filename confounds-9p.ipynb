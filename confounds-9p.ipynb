{
 "cells": [
  {
   "cell_type": "code",
   "execution_count": 1,
   "metadata": {
    "collapsed": true
   },
   "outputs": [],
   "source": [
    "### inputs ###\n",
    "task = \"rest\" # rest or bart"
   ]
  },
  {
   "cell_type": "code",
   "execution_count": 2,
   "metadata": {},
   "outputs": [
    {
     "data": {
      "text/plain": [
       "'/Volumes/Seagate/UCLA/func'"
      ]
     },
     "execution_count": 2,
     "metadata": {},
     "output_type": "execute_result"
    }
   ],
   "source": [
    "import os\n",
    "import openpyxl\n",
    "import nibabel as nib\n",
    "import numpy as np\n",
    "import pandas as pd\n",
    "import subprocess\n",
    "import scipy.io\n",
    "Data_DIR = \"/Volumes/Seagate/UCLA/func/\"\n",
    "os.chdir(Data_DIR)\n",
    "os.getcwd()"
   ]
  },
  {
   "cell_type": "code",
   "execution_count": 3,
   "metadata": {
    "collapsed": true
   },
   "outputs": [],
   "source": [
    "wb = openpyxl.load_workbook('/Users/pariarezaeinia/desktop/Data/UCLA/Subjects1.xlsx')\n",
    "wb.get_sheet_names()\n",
    "sheet = wb.get_sheet_by_name('Sheet1')\n",
    "N = sheet.max_row"
   ]
  },
  {
   "cell_type": "code",
   "execution_count": 4,
   "metadata": {},
   "outputs": [],
   "source": [
    "## create the 36 parameter file\n",
    "for i in range(1,N):\n",
    "    ID = sheet.cell(row=i+1, column=1).value\n",
    "    sub = str(ID) \n",
    "    tsv_file = \"sub-\" + sub+ \"_task-\" + task + \"_bold_confounds.tsv\"\n",
    "    df = pd.read_table(tsv_file, sep='\\t', header=0)\n",
    "    [dim1, dim2] = np.shape(df)\n",
    "    conf_clmns = [row for row in df if row == \"WhiteMatter\" or row == \"X\" or row == \"Y\" or row == \"Z\" or row == \"RotX\" or row == \"RotY\" or row == \"RotZ\"]\n",
    "    data_confs = np.zeros((dim1, 8))\n",
    "    cntr = 0\n",
    "    for item in conf_clmns:\n",
    "        data_confs[:, cntr] = np.array(df[item])\n",
    "        cntr = cntr + 1\n",
    "    data_confs = data_confs [5:,:]\n",
    "    Data_Name = \"sub-\" + sub + \"_task-\" + task + \"_bold_space-MNI152NLin2009cAsym_preproc\"    \n",
    "\n",
    "    conf_name = \"sub-\" + sub+ \"_task-\" + task + \"_bold_9p_confounds.mat\"\n",
    "    scipy.io.savemat(conf_name, {'mydata': conf_data})"
   ]
  },
  {
   "cell_type": "markdown",
   "metadata": {
    "collapsed": true
   },
   "source": [
    "resting_pipeline.py --func /path/to/Nifti_file --steps 2 --outpath /here/ -p func\n",
    "resting_pipeline.py --func /path/to/Nifti_file --steps 5 --outpath /here/ -p func --tr=2 --flirtmat=/path/to/motion_regressors --refwm=/path/to/WM_mask --refcsf=/path/to/CSF_mask --refgm=/path/to/GM_mask"
   ]
  }
 ],
 "metadata": {
  "kernelspec": {
   "display_name": "Python 3",
   "language": "python",
   "name": "python3"
  },
  "language_info": {
   "codemirror_mode": {
    "name": "ipython",
    "version": 3
   },
   "file_extension": ".py",
   "mimetype": "text/x-python",
   "name": "python",
   "nbconvert_exporter": "python",
   "pygments_lexer": "ipython3",
   "version": "3.6.4"
  }
 },
 "nbformat": 4,
 "nbformat_minor": 1
}
