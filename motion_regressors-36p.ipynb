{
 "cells": [
  {
   "cell_type": "code",
   "execution_count": 1,
   "metadata": {
    "collapsed": true
   },
   "outputs": [],
   "source": [
    "### inputs ###\n",
    "task = \"rest\" # rest or bart"
   ]
  },
  {
   "cell_type": "code",
   "execution_count": 2,
   "metadata": {
    "collapsed": true
   },
   "outputs": [],
   "source": [
    "import os\n",
    "import openpyxl\n",
    "import nibabel as nib\n",
    "import numpy as np\n",
    "import pandas as pd\n",
    "import subprocess\n",
    "import scipy.io"
   ]
  },
  {
   "cell_type": "code",
   "execution_count": 3,
   "metadata": {
    "collapsed": false
   },
   "outputs": [
    {
     "name": "stderr",
     "output_type": "stream",
     "text": [
      "c:\\users\\paria\\appdata\\local\\programs\\python\\python36\\lib\\site-packages\\openpyxl\\reader\\worksheet.py:312: UserWarning: Unknown extension is not supported and will be removed\n",
      "  warn(msg)\n"
     ]
    }
   ],
   "source": [
    "wb = openpyxl.load_workbook('Subjects1.xlsx')\n",
    "wb.get_sheet_names()\n",
    "sheet = wb.get_sheet_by_name('Sheet1')\n",
    "N = sheet.max_row"
   ]
  },
  {
   "cell_type": "code",
   "execution_count": 4,
   "metadata": {
    "collapsed": false
   },
   "outputs": [
    {
     "data": {
      "text/plain": [
       "'F:\\\\UCLA\\\\func'"
      ]
     },
     "execution_count": 4,
     "metadata": {},
     "output_type": "execute_result"
    }
   ],
   "source": [
    "Data_DIR = \"F://UCLA//func//\"\n",
    "os.chdir(Data_DIR)\n",
    "os.getcwd()"
   ]
  },
  {
   "cell_type": "code",
   "execution_count": 8,
   "metadata": {
    "collapsed": true
   },
   "outputs": [],
   "source": [
    "## create the 36 parameter file\n",
    "for i in range(1,N):\n",
    "    ID = sheet.cell(row=i+1, column=1).value\n",
    "    sub = str(ID) \n",
    "    tsv_file = \"sub-\" + sub+ \"_task-\" + task + \"_bold_confounds.tsv\"\n",
    "    df = pd.read_table(tsv_file, sep='\\t', header=0)\n",
    "    [dim1, dim2] = np.shape(df)\n",
    "    conf_clmns = [row for row in df if row == \"WhiteMatter\" or row == \"X\" or row == \"Y\" or row == \"Z\" or row == \"RotX\" or row == \"RotY\" or row == \"RotZ\"]\n",
    "    data_confs = np.zeros((dim1, 4*7))\n",
    "    cntr = 0\n",
    "    for item in conf_clmns:\n",
    "        data_confs[:, cntr] = np.array(df[item])\n",
    "        data_confs[:, cntr+7] = np.gradient(data_confs[:, cntr])\n",
    "        data_confs[:, cntr+2*7] = np.gradient(data_confs[:, cntr+8])\n",
    "        data_confs[:, cntr+3*7] = np.square(data_confs[:, cntr+2*8])\n",
    "        cntr = cntr + 1\n",
    "    data_confs = data_confs[5:,:]\n",
    "    # set the name of the desired data set here:\n",
    "    conf_name = \"sub-\" + sub+ \"_task-\" + task + \"_bold_36p_confounds.mat\"\n",
    "    scipy.io.savemat(conf_name, {'mydata': data_confs})"
   ]
  }
 ],
 "metadata": {
  "kernelspec": {
   "display_name": "Python 2",
   "language": "python",
   "name": "python2"
  },
  "language_info": {
   "codemirror_mode": {
    "name": "ipython",
    "version": 2
   },
   "file_extension": ".py",
   "mimetype": "text/x-python",
   "name": "python",
   "nbconvert_exporter": "python",
   "pygments_lexer": "ipython2",
   "version": "2.7.6"
  }
 },
 "nbformat": 4,
 "nbformat_minor": 1
}
