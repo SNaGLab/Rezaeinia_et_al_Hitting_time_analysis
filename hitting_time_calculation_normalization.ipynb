{
 "cells": [
  {
   "cell_type": "code",
   "execution_count": 1,
   "metadata": {
    "collapsed": true
   },
   "outputs": [],
   "source": [
    "### inputs ###\n",
    "task = \"bart\" # rest or bart\n",
    "atLas = \"mmp\" # msdl or haox or mmp"
   ]
  },
  {
   "cell_type": "code",
   "execution_count": 2,
   "metadata": {
    "collapsed": true
   },
   "outputs": [],
   "source": [
    "import os\n",
    "%matplotlib inline\n",
    "import nilearn\n",
    "import numpy as np\n",
    "import scipy\n",
    "import math\n",
    "from nilearn import datasets\n",
    "from nilearn.input_data import NiftiMapsMasker\n",
    "from nilearn.input_data import NiftiLabelsMasker\n",
    "from nilearn.connectome import ConnectivityMeasure\n",
    "import nibabel as nib\n",
    "import openpyxl\n",
    "import matplotlib.pyplot as plt\n",
    "import csv\n",
    "import pandas as pd\n",
    "from numpy import genfromtxt\n",
    "correlation_measure = ConnectivityMeasure(kind='partial correlation')"
   ]
  },
  {
   "cell_type": "code",
   "execution_count": 3,
   "metadata": {
    "collapsed": true
   },
   "outputs": [],
   "source": [
    "atlas_filename = \"MMP1_rois.nii\"\n",
    "masker = NiftiLabelsMasker(labels_img=atlas_filename, standardize=True,\n",
    "                           memory='nilearn_cache', verbose=5) "
   ]
  },
  {
   "cell_type": "code",
   "execution_count": 4,
   "metadata": {
    "collapsed": false
   },
   "outputs": [
    {
     "name": "stderr",
     "output_type": "stream",
     "text": [
      "c:\\users\\paria\\appdata\\local\\programs\\python\\python36\\lib\\site-packages\\openpyxl\\reader\\worksheet.py:312: UserWarning: Unknown extension is not supported and will be removed\n",
      "  warn(msg)\n"
     ]
    }
   ],
   "source": [
    "## reading the subject's ID's and groups\n",
    "wb = openpyxl.load_workbook('Subjects1.xlsx')\n",
    "wb.get_sheet_names()\n",
    "sheet = wb.get_sheet_by_name('Sheet1')\n",
    "N = sheet.max_row"
   ]
  },
  {
   "cell_type": "code",
   "execution_count": 5,
   "metadata": {
    "collapsed": false
   },
   "outputs": [
    {
     "data": {
      "text/plain": [
       "'F:\\\\UCLA\\\\func'"
      ]
     },
     "execution_count": 5,
     "metadata": {},
     "output_type": "execute_result"
    }
   ],
   "source": [
    "Data_DIR = \"F://UCLA//func/\"\n",
    "os.chdir(Data_DIR)\n",
    "os.getcwd()"
   ]
  },
  {
   "cell_type": "code",
   "execution_count": 19,
   "metadata": {
    "collapsed": true
   },
   "outputs": [],
   "source": [
    "## this function calculates hitting-time matrix\n",
    "def hitting_matrix(correlation_matrix):\n",
    "    L = np.size(correlation_matrix,axis = 0)\n",
    "    A_matrix = np.array(correlation_matrix)\n",
    "    D_matrix = np.zeros((L,L))\n",
    "    for i in range(L):\n",
    "        D_matrix[i,i] = np.sum(A_matrix[i])\n",
    "        \n",
    "    d_max = np.max(D_matrix)\n",
    "    \n",
    "    for j in range(L):\n",
    "        if np.max(A_matrix[j,:]) < .05:\n",
    "            A_matrix[j,j] = d_max - D_matrix[j,j]\n",
    "    \n",
    "    D_matrix = np.zeros((L,L))\n",
    "    D_inv = np.zeros((L,L))\n",
    "    D_sqrt = np.zeros((L,L))\n",
    "    D_sqrt_inv = np.zeros((L,L))\n",
    "    for i in range(L):\n",
    "        D_matrix[i,i] = np.sum(A_matrix[i])\n",
    "        D_inv[i,i] = 1./D_matrix[i,i]\n",
    "        D_sqrt[i,i] = np.sqrt(D_matrix[i,i])\n",
    "        D_sqrt_inv[i,i] = 1./D_sqrt[i,i]\n",
    "\n",
    "    p_matrix = np.dot(D_inv, A_matrix)\n",
    "\n",
    "    # Graph Laplacian\n",
    "    eye_matrix = np.eye(L,L)\n",
    "    eye_P = eye_matrix - p_matrix\n",
    "\n",
    "    G_Lap = np.dot(D_sqrt,eye_P)\n",
    "    G_Lap_n = np.dot(G_Lap, D_sqrt_inv)\n",
    "\n",
    "    [eig_val, eig_vec] = np.linalg.eigh(G_Lap_n)\n",
    "    H = np.zeros((L,L))\n",
    "    d = np.sum(D_matrix)\n",
    "    for i in range(L):\n",
    "        for j in range(L):\n",
    "            deg_i = D_matrix[i,i]\n",
    "            deg_j = D_matrix[j,j]\n",
    "            for k in range(L):\n",
    "                if eig_val[k] != min(eig_val):\n",
    "                    t_i = (eig_vec[i,k]*eig_vec[i,k])/deg_i\n",
    "                    t_j = (eig_vec[j,k]*eig_vec[j,k])/deg_j\n",
    "                    t_ij = (eig_vec[i,k]*eig_vec[j,k])/np.sqrt(deg_i*deg_j)\n",
    "                    H[i,j] = H[i,j] + d*(1./(eig_val[k]))*(t_j-t_ij)\n",
    "\n",
    "    H = np.transpose(H)\n",
    "    return H"
   ]
  },
  {
   "cell_type": "code",
   "execution_count": 20,
   "metadata": {
    "collapsed": true
   },
   "outputs": [],
   "source": [
    "## calculating and saving hitting-time matrix for every subject\n",
    "for i in range(1,N):\n",
    "    ID = sheet.cell(row=i+1, column=1).value\n",
    "    sub = str(ID) \n",
    "    Data_Name = \"sub-\" + sub + \"_task-\" + task + \"_bold_space-MNI152NLin2009cAsym_preproc\"    \n",
    "#   set the name of the desired data set here:\n",
    "    fmri_filenames = Data_Name + \"_filt.nii.gz\"\n",
    "    correlation_matrix = genfromtxt(\"correlation_partial_\" + atLas + \"_data_\" + Data_Name, delimiter=\",\")\n",
    "    correlation_matrix = abs(correlation_matrix)\n",
    "    np.fill_diagonal(correlation_matrix, 0)\n",
    "    H = hitting_matrix(correlation_matrix)\n",
    "    np.savetxt(\"hit_time_\" + atLas + \"_data_filt_partial_normalization_\" + Data_Name, H, delimiter=\",\")"
   ]
  }
 ],
 "metadata": {
  "kernelspec": {
   "display_name": "Python 2",
   "language": "python",
   "name": "python2"
  },
  "language_info": {
   "codemirror_mode": {
    "name": "ipython",
    "version": 2
   },
   "file_extension": ".py",
   "mimetype": "text/x-python",
   "name": "python",
   "nbconvert_exporter": "python",
   "pygments_lexer": "ipython2",
   "version": "2.7.6"
  }
 },
 "nbformat": 4,
 "nbformat_minor": 1
}
