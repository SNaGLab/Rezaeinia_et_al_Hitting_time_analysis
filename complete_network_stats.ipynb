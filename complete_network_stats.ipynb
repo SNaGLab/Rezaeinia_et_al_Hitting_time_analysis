{
 "cells": [
  {
   "cell_type": "markdown",
   "metadata": {},
   "source": [
    "Generate a complete network with 100 nodes and calculate the hitting time distribution:"
   ]
  },
  {
   "cell_type": "code",
   "execution_count": 1,
   "metadata": {
    "collapsed": true
   },
   "outputs": [],
   "source": [
    "import os\n",
    "import numpy as np\n",
    "import scipy.stats\n",
    "%matplotlib inline\n",
    "import matplotlib.pyplot as plt\n",
    "n = 100 #number of nodes"
   ]
  },
  {
   "cell_type": "code",
   "execution_count": 2,
   "metadata": {
    "collapsed": true
   },
   "outputs": [],
   "source": [
    "#adjacency matrix for complete network\n",
    "A = np.ones((n,n))  \n",
    "np.fill_diagonal(A, 0)"
   ]
  },
  {
   "cell_type": "code",
   "execution_count": 3,
   "metadata": {
    "collapsed": true
   },
   "outputs": [],
   "source": [
    "def hitting_matrix(A_matrix):\n",
    "    L = np.size(A_matrix,axis = 0)\n",
    "    np.fill_diagonal(A_matrix, 0)\n",
    "\n",
    "    D_matrix = np.zeros((L,L))\n",
    "    D_inv = np.zeros((L,L))\n",
    "    D_sqrt = np.zeros((L,L))\n",
    "    D_sqrt_inv = np.zeros((L,L))\n",
    "    for i in range(L):\n",
    "        D_matrix[i,i] = np.sum(A_matrix[i])\n",
    "        D_inv[i,i] = 1./D_matrix[i,i]\n",
    "        D_sqrt[i,i] = np.sqrt(D_matrix[i,i])\n",
    "        D_sqrt_inv[i,i] = 1./D_sqrt[i,i]\n",
    "\n",
    "    p_matrix = np.dot(D_inv, A_matrix)\n",
    "    eye_matrix = np.eye(L,L)\n",
    "    eye_P = eye_matrix - p_matrix\n",
    "\n",
    "    G_Lap = np.dot(D_sqrt,eye_P)\n",
    "    G_Lap_n = np.dot(G_Lap, D_sqrt_inv)\n",
    "\n",
    "    N_1 = np.dot(D_sqrt_inv,A_matrix)\n",
    "    N_matrix = np.dot(N_1, D_sqrt_inv)\n",
    "    lap_matrix = D_matrix - A_matrix\n",
    "    [eig_val, eig_vec] = np.linalg.eigh(G_Lap_n)\n",
    "    H = np.zeros((L,L))\n",
    "    d = np.sum(D_matrix)\n",
    "    for i in range(L):\n",
    "        for j in range(L):\n",
    "            deg_i = D_matrix[i,i]\n",
    "            deg_j = D_matrix[j,j]\n",
    "            for k in range(L):\n",
    "                if eig_val[k] != min(eig_val):\n",
    "                    t_i = (eig_vec[i,k]*eig_vec[i,k])/deg_i\n",
    "                    t_j = (eig_vec[j,k]*eig_vec[j,k])/deg_j\n",
    "                    t_ij = (eig_vec[i,k]*eig_vec[j,k])/np.sqrt(deg_i*deg_j)\n",
    "                    H[i,j] = H[i,j] + d*(1./(eig_val[k]))*(t_j-t_ij)\n",
    "\n",
    "    H = np.transpose(H)\n",
    "    return H"
   ]
  },
  {
   "cell_type": "code",
   "execution_count": 4,
   "metadata": {
    "collapsed": false
   },
   "outputs": [
    {
     "name": "stdout",
     "output_type": "stream",
     "text": [
      "[[  0.  99.  99. ...,  99.  99.  99.]\n",
      " [ 99.   0.  99. ...,  99.  99.  99.]\n",
      " [ 99.  99.   0. ...,  99.  99.  99.]\n",
      " ..., \n",
      " [ 99.  99.  99. ...,   0.  99.  99.]\n",
      " [ 99.  99.  99. ...,  99.   0.  99.]\n",
      " [ 99.  99.  99. ...,  99.  99.   0.]]\n"
     ]
    }
   ],
   "source": [
    "H = hitting_matrix(A)\n",
    "print H"
   ]
  },
  {
   "cell_type": "code",
   "execution_count": 5,
   "metadata": {
    "collapsed": false
   },
   "outputs": [],
   "source": [
    "def reshape_no_diag(input_matrix):\n",
    "    L = np.size(input_matrix, axis = 0)\n",
    "    H_vec = np.reshape(H, (1, L*L))\n",
    "    for i in reversed(xrange(L)):\n",
    "        H_vec = np.delete(H_vec, i*L+i)\n",
    "    return H_vec"
   ]
  },
  {
   "cell_type": "code",
   "execution_count": 7,
   "metadata": {
    "collapsed": false
   },
   "outputs": [
    {
     "name": "stderr",
     "output_type": "stream",
     "text": [
      "/Users/pariarezaeinia/anaconda/lib/python2.7/site-packages/matplotlib/axes/_axes.py:6462: UserWarning: The 'normed' kwarg is deprecated, and has been replaced by the 'density' kwarg.\n",
      "  warnings.warn(\"The 'normed' kwarg is deprecated, and has been \"\n"
     ]
    },
    {
     "data": {
      "image/png": "[encoded data removed]",
      "text/plain": [
       "<Figure size 600x400 with 1 Axes>"
      ]
     },
     "metadata": {},
     "output_type": "display_data"
    }
   ],
   "source": [
    "font = {'family': 'Arial',\n",
    "        'color':  'darkred',\n",
    "        'weight': 'normal',\n",
    "        'size': 13,\n",
    "        }\n",
    "fig, ax = plt.subplots()\n",
    "n, bins, patches = ax.hist(H_vec, 5, normed = 1, edgecolor='b')\n",
    "plt.yticks(np.arange(0, 1, step=0.2))\n",
    "for tick in ax.xaxis.get_major_ticks():\n",
    "    tick.label.set_fontsize(22)\n",
    "for tick in ax.yaxis.get_major_ticks():\n",
    "    tick.label.set_fontsize(22)\n",
    "plt.axis([0, 300, 0, 1])\n",
    "plt.show()"
   ]
  }
 ],
 "metadata": {
  "kernelspec": {
   "display_name": "Python 2",
   "language": "python",
   "name": "python2"
  },
  "language_info": {
   "codemirror_mode": {
    "name": "ipython",
    "version": 2
   },
   "file_extension": ".py",
   "mimetype": "text/x-python",
   "name": "python",
   "nbconvert_exporter": "python",
   "pygments_lexer": "ipython2",
   "version": "2.7.13"
  }
 },
 "nbformat": 4,
 "nbformat_minor": 0
}
