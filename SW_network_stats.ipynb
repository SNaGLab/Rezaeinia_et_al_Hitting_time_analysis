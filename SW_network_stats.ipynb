{
 "cells": [
  {
   "cell_type": "markdown",
   "metadata": {},
   "source": [
    "Generate a small world network with 100 nodes and calculate the hitting time distribution:"
   ]
  },
  {
   "cell_type": "code",
   "execution_count": 2,
   "metadata": {
    "collapsed": true
   },
   "outputs": [],
   "source": [
    "import os\n",
    "import numpy as np\n",
    "import scipy.stats\n",
    "%matplotlib inline\n",
    "import matplotlib.pyplot as plt\n",
    "np.set_printoptions(threshold=np.inf)\n",
    "N = 100 #number of nodes\n",
    "K = 10 #number of initial neighbors\n",
    "beta = .4"
   ]
  },
  {
   "cell_type": "code",
   "execution_count": 3,
   "metadata": {
    "collapsed": true
   },
   "outputs": [],
   "source": [
    "# hitting time calculation function\n",
    "def hitting_matrix(A_matrix):\n",
    "    L = np.size(A_matrix,axis = 0)\n",
    "    np.fill_diagonal(A_matrix, 0)\n",
    "    D_matrix = np.zeros((L,L))\n",
    "    D_inv = np.zeros((L,L))\n",
    "    D_sqrt = np.zeros((L,L))\n",
    "    D_sqrt_inv = np.zeros((L,L))\n",
    "    for i in range(L):\n",
    "        D_matrix[i,i] = np.sum(A_matrix[i])\n",
    "        D_inv[i,i] = 1./D_matrix[i,i]\n",
    "        D_sqrt[i,i] = np.sqrt(D_matrix[i,i])\n",
    "        D_sqrt_inv[i,i] = 1./D_sqrt[i,i]\n",
    "    p_matrix = np.dot(D_inv, A_matrix)\n",
    "    eye_matrix = np.eye(L,L)\n",
    "    eye_P = eye_matrix - p_matrix\n",
    "\n",
    "    G_Lap = np.dot(D_sqrt,eye_P)\n",
    "    G_Lap_n = np.dot(G_Lap, D_sqrt_inv)\n",
    "\n",
    "    N_1 = np.dot(D_sqrt_inv,A_matrix)\n",
    "    N_matrix = np.dot(N_1, D_sqrt_inv)\n",
    "    lap_matrix = D_matrix - A_matrix\n",
    "    [eig_val, eig_vec] = np.linalg.eigh(G_Lap_n)\n",
    "    H = np.zeros((L,L))\n",
    "    d = np.sum(D_matrix)\n",
    "    for i in range(L):\n",
    "        for j in range(L):\n",
    "            deg_i = D_matrix[i,i]\n",
    "            deg_j = D_matrix[j,j]\n",
    "            for k in range(L):\n",
    "                if eig_val[k] != min(eig_val):\n",
    "                    t_i = (eig_vec[i,k]*eig_vec[i,k])/deg_i\n",
    "                    t_j = (eig_vec[j,k]*eig_vec[j,k])/deg_j\n",
    "                    t_ij = (eig_vec[i,k]*eig_vec[j,k])/np.sqrt(deg_i*deg_j)\n",
    "                    H[i,j] = H[i,j] + d*(1./(eig_val[k]))*(t_j-t_ij)\n",
    "    return H"
   ]
  },
  {
   "cell_type": "code",
   "execution_count": 4,
   "metadata": {
    "collapsed": false
   },
   "outputs": [],
   "source": [
    "def reshape_no_diag(input_matrix):\n",
    "    L = np.size(input_matrix, axis = 0)\n",
    "    H_vec = np.reshape(H, (1, L*L))\n",
    "    for i in reversed(xrange(L)):\n",
    "        H_vec = np.delete(H_vec, i*L+i)\n",
    "    return H_vec"
   ]
  },
  {
   "cell_type": "code",
   "execution_count": 6,
   "metadata": {
    "collapsed": false
   },
   "outputs": [],
   "source": [
    "#adjacency matrix for small world network\n",
    "def SW_network(N, K, beta):\n",
    "    A = np.zeros((N,N))\n",
    "    for i in range(N):\n",
    "        for k in range(1,K/2+1):\n",
    "            i1 = (i-k) % N\n",
    "            i2 = (i+k) % N\n",
    "            A[i,i1] = 1\n",
    "            A[i,i2] = 1\n",
    "    for i in range(N):\n",
    "        for k in range(1, K/2+1):\n",
    "            rand_num = np.random.rand(1,1)\n",
    "            if rand_num < beta:\n",
    "                j = np.random.randint(N)\n",
    "                if j != i and A[i,j] == 0:\n",
    "                    i2 = (i+k) % N\n",
    "                    A[i,i2] = 0\n",
    "                    A[i2,i] = 0\n",
    "                    A[i,j] = 1\n",
    "                    A[j,i] = 1\n",
    "    return A"
   ]
  },
  {
   "cell_type": "code",
   "execution_count": 7,
   "metadata": {
    "collapsed": false
   },
   "outputs": [],
   "source": [
    "n_bins = 100\n",
    "H_vec_tot = []\n",
    "for i in range(1,2):\n",
    "    A = SW_network(N, K, beta)\n",
    "    H = hitting_matrix(A)\n",
    "    H_avg = H\n",
    "    H_vec = reshape_no_diag(H)\n",
    "    H_vec_tot.append(H_vec)\n",
    "    [hist_avg, bins] = np.histogram(H_vec, bins = n_bins, range = [0, 300], density = True)"
   ]
  },
  {
   "cell_type": "code",
   "execution_count": 8,
   "metadata": {
    "collapsed": false
   },
   "outputs": [
    {
     "name": "stdout",
     "output_type": "stream",
     "text": [
      "0.982456140351\n"
     ]
    }
   ],
   "source": [
    "N_iter = 20\n",
    "for m in range(2,N_iter):\n",
    "    A = SW_network(N, K, beta)\n",
    "    H = hitting_matrix(A)\n",
    "    H_vec = reshape_no_diag(H)\n",
    "    [hist, bins] = np.histogram(H_vec, bins = n_bins, range = [50, 250], density = True)\n",
    "    bins_diff = np.diff(bins)\n",
    "    H_vec_tot.append(H_vec)\n",
    "    H_avg = H_avg + H\n",
    "    hist_avg = hist_avg + np.array(hist)\n",
    "bins_diff = np.diff(bins)\n",
    "hist_avg = hist_avg/(N_iter-1)\n",
    "print np.sum((hist_avg)*np.array(bins_diff))\n",
    "#     print m"
   ]
  },
  {
   "cell_type": "code",
   "execution_count": 12,
   "metadata": {
    "collapsed": false
   },
   "outputs": [
    {
     "data": {
      "image/png": "[encoded data removed]",
      "text/plain": [
       "<Figure size 600x400 with 1 Axes>"
      ]
     },
     "metadata": {},
     "output_type": "display_data"
    }
   ],
   "source": [
    "font = {'family': 'Arial',\n",
    "        'color':  'darkred',\n",
    "        'weight': 'normal',\n",
    "        'size': 13,\n",
    "        }\n",
    "fig, ax = plt.subplots()\n",
    "fig.set_size_inches(6, 4)\n",
    "ax.bar(bins[:-1],hist_avg, width=np.diff(bins), ec=\"k\", align=\"edge\")\n",
    "# ax.plot(bins[:-1], hist_avg, linewidth=2, color='r')\n",
    "# plt.title(\"Small world\", fontname=\"Arial\", fontsize=11)\n",
    "# plt.xlabel(\"Hitting time\", fontname=\"Arial\", fontsize=13)\n",
    "# plt.ylabel(\"Probability distribution function\", fontname=\"Arial\", fontsize=13)\n",
    "# plt.axhline(.0007, color='r', linestyle='dashed')\n",
    "# plt.yticks(np.arange(0, .03,.01))\n",
    "plt.axis([0, 300, 0,.03])\n",
    "plt.yticks(np.arange(0, .035, step=0.01))\n",
    "# plt.xticks(np.arange(0,150000,300))\n",
    "\n",
    "# ax.plot(np.arange(0,50000,30000),np.arange(0,10,1))\n",
    "for tick in ax.xaxis.get_major_ticks():\n",
    "    tick.label.set_fontsize(22)\n",
    "for tick in ax.yaxis.get_major_ticks():\n",
    "    tick.label.set_fontsize(22)\n",
    "# ax.text(250, 0.1, r'Kelly skewness = 12.4', fontdict=font, color = 'black')\n",
    "plt.show()\n",
    "# fig.savefig('/Users/pariarezaeinia/Dropbox/PNAS/small_world_hist.png', dpi=400)"
   ]
  }
 ],
 "metadata": {
  "kernelspec": {
   "display_name": "Python 2",
   "language": "python",
   "name": "python2"
  },
  "language_info": {
   "codemirror_mode": {
    "name": "ipython",
    "version": 2
   },
   "file_extension": ".py",
   "mimetype": "text/x-python",
   "name": "python",
   "nbconvert_exporter": "python",
   "pygments_lexer": "ipython2",
   "version": "2.7.13"
  }
 },
 "nbformat": 4,
 "nbformat_minor": 0
}
