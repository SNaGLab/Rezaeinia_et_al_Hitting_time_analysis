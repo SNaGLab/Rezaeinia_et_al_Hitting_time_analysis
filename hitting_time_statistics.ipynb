{
 "cells": [
  {
   "cell_type": "code",
   "execution_count": 15,
   "metadata": {
    "collapsed": true
   },
   "outputs": [],
   "source": [
    "### inputs ###\n",
    "task = \"bart\" # rest or bart\n",
    "atLas = \"mmp\" # msdl or haox"
   ]
  },
  {
   "cell_type": "code",
   "execution_count": 16,
   "metadata": {
    "collapsed": false
   },
   "outputs": [],
   "source": [
    "import os\n",
    "import scipy.stats\n",
    "import numpy as np\n",
    "from numpy import genfromtxt\n",
    "import astropy.table as table\n",
    "import astropy.units as u\n",
    "import sys\n",
    "from astropy.table import Table, Column, MaskedColumn\n",
    "from astropy.io import ascii \n",
    "import openpyxl\n",
    "import csv"
   ]
  },
  {
   "cell_type": "code",
   "execution_count": 17,
   "metadata": {
    "collapsed": true
   },
   "outputs": [],
   "source": [
    "# save matrix in a vector, removing its diagonal\n",
    "def reshape_no_diag(input_matrix):\n",
    "    L = np.size(input_matrix, axis = 0)\n",
    "    H_vec = np.reshape(input_matrix, (1, L*L))\n",
    "    for i in reversed(xrange(L)):\n",
    "        H_vec = np.delete(H_vec, i*L+i)\n",
    "    return H_vec"
   ]
  },
  {
   "cell_type": "code",
   "execution_count": 18,
   "metadata": {
    "collapsed": false
   },
   "outputs": [],
   "source": [
    "## reading the subject's ID's and groups\n",
    "wb = openpyxl.load_workbook('/Users/pariarezaeinia/Dropbox/codes/Net-Neuro/Subjects1.xlsx')\n",
    "wb.get_sheet_names()\n",
    "sheet = wb.get_sheet_by_name('Sheet1')\n",
    "N = sheet.max_row"
   ]
  },
  {
   "cell_type": "code",
   "execution_count": 19,
   "metadata": {
    "collapsed": false
   },
   "outputs": [],
   "source": [
    "## initializing the vectors containing subject's information and hitting time statistics\n",
    "Name_vec = []\n",
    "task_vec = []\n",
    "group_vec = []\n",
    "Age = []\n",
    "Gender = []\n",
    "mean_vec = np.zeros((N-1, 1))\n",
    "var_vec = np.zeros((N-1, 1))\n",
    "skew_vec = np.zeros((N-1, 1))\n",
    "kurtosis_vec = np.zeros((N-1, 1))\n",
    "median_vec = np.zeros((N-1, 1))\n",
    "kelly_vec = np.zeros((N-1, 1))\n",
    "yule_vec = np.zeros((N-1, 1))\n",
    "Q10_vec = np.zeros((N-1, 1))\n",
    "Q25_vec = np.zeros((N-1, 1))\n",
    "Q75_vec = np.zeros((N-1, 1))\n",
    "Q90_vec = np.zeros((N-1, 1))\n",
    "Q90_10_vec = np.zeros((N-1, 1))\n",
    "Q75_25_vec = np.zeros((N-1, 1))"
   ]
  },
  {
   "cell_type": "code",
   "execution_count": 20,
   "metadata": {
    "collapsed": false
   },
   "outputs": [],
   "source": [
    "## reading hitting time matrices and calculating the statistics\n",
    "Data_DIR = \"/Volumes/Seagate/UCLA/func/\"\n",
    "os.chdir(Data_DIR)\n",
    "for i in range(1,N):\n",
    "    ID = sheet.cell(row=i+1, column=1).value\n",
    "    Subject_grp = sheet.cell(row=i+1, column=2).value\n",
    "    Subject_age = sheet.cell(row=i+1, column=3).value\n",
    "    Subject_gender = sheet.cell(row=i+1, column=4).value\n",
    "    sub = str(ID) \n",
    "    Data_Name = \"sub-\" + sub\n",
    "    Name_vec.append(Data_Name)\n",
    "    Data_Name = \"sub-\" + sub + \"_task-\" + task + \"_bold_space-MNI152NLin2009cAsym_preproc\"    \n",
    "    H = genfromtxt(\"hit_time_\" + atLas + \"_data_filt_partial_fixed_thrshld_linear_normalization_\" + Data_Name, delimiter=',')\n",
    "    L = np.size(H,axis = 0)\n",
    "    H_vec = reshape_no_diag(H)\n",
    "    task_vec.append(task)\n",
    "    group_vec.append(Subject_grp)\n",
    "    Age.append(Subject_age)\n",
    "    Gender.append(Subject_gender)\n",
    "    mean_vec[i-1] = np.mean(H_vec)\n",
    "    var_vec[i-1] = np.var(H_vec)\n",
    "    H_skew = scipy.stats.skew(H_vec)\n",
    "    H_kurtosis = scipy.stats.kurtosis(H_vec)\n",
    "    skew_vec[i-1] = H_skew\n",
    "    kurtosis_vec[i-1] = H_kurtosis\n",
    "    Q10_vec[i-1] = np.percentile(H_vec,10)\n",
    "    Q25_vec[i-1] = np.percentile(H_vec,25)\n",
    "    Q75_vec[i-1] = np.percentile(H_vec,75)\n",
    "    Q90_vec[i-1] = np.percentile(H_vec,90)\n",
    "    Q90_10_vec[i-1] = Q90_vec[i-1] - Q10_vec[i-1]\n",
    "    Q75_25_vec[i-1] = Q75_vec[i-1] - Q25_vec[i-1]\n",
    "    median_vec[i-1] = np.median(H_vec)  \n",
    "    kelly_vec[i-1] = Q90_vec[i-1] + Q10_vec[i-1] - 2*median_vec[i-1]\n",
    "    yule_vec[i-1] = kelly_vec[i-1]/median_vec[i-1]"
   ]
  },
  {
   "cell_type": "code",
   "execution_count": 21,
   "metadata": {
    "collapsed": false
   },
   "outputs": [],
   "source": [
    "## saving output data containing subject's information and hitting time statistics\n",
    "t = table.Table()\n",
    "t.add_column(table.Column(name='Name', data=Name_vec))\n",
    "t.add_column(table.Column(name='Task', data=task_vec))\n",
    "t.add_column(table.Column(name='Group', data=group_vec))\n",
    "t.add_column(table.Column(name='Age', data=Age))\n",
    "t.add_column(table.Column(name='Gender', data=Gender))\n",
    "t.add_column(table.Column(name='Mean', data=mean_vec))\n",
    "t.add_column(table.Column(name='Skewness', data=skew_vec))\n",
    "t.add_column(table.Column(name='Varianc', data=var_vec))\n",
    "t.add_column(table.Column(name='Kurtosis', data=kurtosis_vec))\n",
    "t.add_column(table.Column(name='Median', data=median_vec))\n",
    "t.add_column(table.Column(name='kelly', data=kelly_vec))\n",
    "t.add_column(table.Column(name='yule', data=yule_vec))\n",
    "t.add_column(table.Column(name='Q10', data=Q10_vec))\n",
    "t.add_column(table.Column(name='Q25', data=Q25_vec))\n",
    "t.add_column(table.Column(name='Q75', data=Q75_vec))\n",
    "t.add_column(table.Column(name='Q90', data=Q90_vec))\n",
    "t.add_column(table.Column(name='Q90_10', data=Q90_10_vec))\n",
    "t.add_column(table.Column(name='Q75_25', data=Q75_25_vec))\n",
    "\n",
    "out_path = \"/Users/pariarezaeinia/desktop/Data/stats_filt_partial_normalization_\" + task + \"_\" + atLas + \".csv\"\n",
    "\n",
    "if os.path.exists(out_path):\n",
    "    os.remove(out_path)\n",
    "ascii.write(t, out_path, delimiter = ',') "
   ]
  }
 ],
 "metadata": {
  "kernelspec": {
   "display_name": "Python 2",
   "language": "python",
   "name": "python2"
  },
  "language_info": {
   "codemirror_mode": {
    "name": "ipython",
    "version": 2
   },
   "file_extension": ".py",
   "mimetype": "text/x-python",
   "name": "python",
   "nbconvert_exporter": "python",
   "pygments_lexer": "ipython2",
   "version": "2.7.6"
  }
 },
 "nbformat": 4,
 "nbformat_minor": 0
}
